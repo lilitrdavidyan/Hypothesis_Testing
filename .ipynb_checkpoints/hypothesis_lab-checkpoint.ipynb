{
 "cells": [
  {
   "cell_type": "markdown",
   "id": "391a8f39",
   "metadata": {},
   "source": [
    "# Lab | Hypothesis Testing"
   ]
  },
  {
   "cell_type": "code",
   "execution_count": null,
   "id": "1bd707b1",
   "metadata": {},
   "outputs": [],
   "source": [
    "\n",
    "import pandas as pd\n",
    "import numpy as np\n",
    "import matplotlib.pyplot as plt\n",
    "from scipy.stats import ttest_1samp, t\n"
   ]
  },
  {
   "cell_type": "markdown",
   "id": "1fc026da",
   "metadata": {},
   "source": [
    "## Data Loading and Exploration"
   ]
  },
  {
   "cell_type": "code",
   "execution_count": null,
   "id": "bd6fe556",
   "metadata": {},
   "outputs": [],
   "source": [
    "\n",
    "# Load the provided dataset\n",
    "employee_data = pd.read_csv('/mnt/data/Current_Employee_Names__Salaries__and_Position_Titles.csv')\n",
    "\n",
    "# Display the first few rows of the dataset to understand its structure\n",
    "employee_data.head()\n"
   ]
  },
  {
   "cell_type": "markdown",
   "id": "f35d8838",
   "metadata": {},
   "source": [
    "\n",
    "## Hypothesis Formulation\n",
    "\n",
    "**Research Question**:\n",
    "\"Is the average annual salary of employees greater than $75,000?\"\n",
    "\n",
    "**Hypotheses**:\n",
    "- \\( H_0 \\): The average annual salary of employees is $75,000 (null hypothesis).\n",
    "- \\( H_a \\): The average annual salary of employees is greater than $75,000 (alternative hypothesis).\n"
   ]
  },
  {
   "cell_type": "markdown",
   "id": "1124f989",
   "metadata": {},
   "source": [
    "## Hypothesis Testing"
   ]
  },
  {
   "cell_type": "code",
   "execution_count": null,
   "id": "552faf44",
   "metadata": {},
   "outputs": [],
   "source": [
    "\n",
    "# Filter out null values from the 'Annual Salary' column\n",
    "annual_salaries = employee_data['Annual Salary'].dropna()\n",
    "\n",
    "# Conduct a one-sample t-test\n",
    "t_stat, p_value = ttest_1samp(annual_salaries, 75000)\n",
    "\n",
    "t_stat, p_value/2  # We divide p_value by 2 for a one-tailed test\n"
   ]
  },
  {
   "cell_type": "markdown",
   "id": "49275274",
   "metadata": {},
   "source": [
    "## Confidence Intervals Construction"
   ]
  },
  {
   "cell_type": "code",
   "execution_count": null,
   "id": "743134ea",
   "metadata": {},
   "outputs": [],
   "source": [
    "\n",
    "# Calculate the sample mean and standard error\n",
    "mean_salary = annual_salaries.mean()\n",
    "stderr = annual_salaries.sem()\n",
    "\n",
    "# Degrees of freedom\n",
    "df = len(annual_salaries) - 1\n",
    "\n",
    "# Confidence level and alpha\n",
    "confidence_level = 0.95\n",
    "alpha = 1 - confidence_level\n",
    "\n",
    "# Calculate the t critical value for a 95% confidence interval\n",
    "t_critical = t.ppf(1 - alpha/2, df)\n",
    "\n",
    "# Calculate the margin of error\n",
    "margin_error = t_critical * stderr\n",
    "\n",
    "# Calculate the confidence interval\n",
    "conf_interval = (mean_salary - margin_error, mean_salary + margin_error)\n",
    "\n",
    "conf_interval\n"
   ]
  },
  {
   "cell_type": "markdown",
   "id": "c7a429bd",
   "metadata": {},
   "source": [
    "\n",
    "## Interpretation and Conclusions\n",
    "\n",
    "The p-value obtained from the t-test is effectively zero, indicating strong evidence against the null hypothesis. This suggests that the average annual salary of employees is significantly greater than $75,000.\n",
    "\n",
    "Furthermore, the 95% confidence interval for the average annual salary is approximately between $88,802.56 and $89,321.03. This interval provides a range in which we are confident the true average annual salary lies. Given that this entire range is above the $75,000 threshold posited in our hypothesis, it confirms our earlier conclusion.\n"
   ]
  }
 ],
 "metadata": {
  "kernelspec": {
   "display_name": "Python 3 (ipykernel)",
   "language": "python",
   "name": "python3"
  },
  "language_info": {
   "codemirror_mode": {
    "name": "ipython",
    "version": 3
   },
   "file_extension": ".py",
   "mimetype": "text/x-python",
   "name": "python",
   "nbconvert_exporter": "python",
   "pygments_lexer": "ipython3",
   "version": "3.10.9"
  }
 },
 "nbformat": 4,
 "nbformat_minor": 5
}
